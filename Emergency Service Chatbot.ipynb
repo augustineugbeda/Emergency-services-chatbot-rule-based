{
 "cells": [
  {
   "cell_type": "code",
   "execution_count": null,
   "metadata": {},
   "outputs": [],
   "source": []
  },
  {
   "cell_type": "code",
   "execution_count": null,
   "metadata": {},
   "outputs": [],
   "source": []
  },
  {
   "cell_type": "code",
   "execution_count": 49,
   "metadata": {},
   "outputs": [],
   "source": [
    "def emmergency_services_bot_english():\n",
    "    print('''Hello! \\n Welcome to the emergency services desk. \\n what is your emergency?\n",
    "     \\n [1] Health\n",
    "     \\n [2] Fire\n",
    "     \\n [3] Crime''')\n",
    "    response  = input('Please enter the number corresponding to your choice:')\n",
    "    if response == '1':\n",
    "        health()\n",
    "    elif response == '2':\n",
    "        fire()\n",
    "    elif response == '3':\n",
    "        crime()\n",
    "    else:\n",
    "        print('''Sorry, we didn't understand your selection.''')\n",
    "        "
   ]
  },
  {
   "cell_type": "code",
   "execution_count": null,
   "metadata": {},
   "outputs": [],
   "source": []
  },
  {
   "cell_type": "code",
   "execution_count": 50,
   "metadata": {},
   "outputs": [],
   "source": [
    "def health():\n",
    "    print('''Welcome to the emergency service, what is your health emergency?\" \\n [1] I need an Ambulance . \\n [2] Information on Drugs. \\n [3] Speak to a Doctor.''')\n",
    "    response  = input('Please enter the number corresponding to your choice:')\n",
    "    if response == '1':\n",
    "      ambulance()\n",
    "    elif response == '2':\n",
    "      information()\n",
    "    elif response == '3':\n",
    "      doctor()\n",
    "    else:\n",
    "      print('''Sorry, we didn't understand your selection.''')\n",
    "      health()"
   ]
  },
  {
   "cell_type": "code",
   "execution_count": 51,
   "metadata": {},
   "outputs": [],
   "source": [
    "def information():\n",
    "    print('''No information on Drugs available right now,wait while we connect you to a doctor.''')"
   ]
  },
  {
   "cell_type": "code",
   "execution_count": 52,
   "metadata": {},
   "outputs": [],
   "source": [
    "def ambulance():\n",
    "     print('''An ambulance has been dispatched to your location\".''')\n",
    "     "
   ]
  },
  {
   "cell_type": "code",
   "execution_count": 53,
   "metadata": {},
   "outputs": [],
   "source": [
    "def doctor():\n",
    "     print('''What type of Doctor do you need? \\n [1] General Practitioner.  \\n [2] Specialist.''')\n",
    "     response  = input('Please enter the number corresponding to your choice:')\n",
    "     if response == '1':\n",
    "      print('Please hold while we connect you with a general practitioner. The wait time will be between 2  and 5 minutes. We thank you for your patience.')\n",
    "     if response == '2':\n",
    "      print('Please hold while we connect you with a specialist . The wait time will be between 2 and 5 minutes. We thank you for your patience.')"
   ]
  },
  {
   "cell_type": "code",
   "execution_count": 54,
   "metadata": {},
   "outputs": [],
   "source": [
    "def fire():\n",
    "    print(''' How may i be of service? \\n [1] My home/office is on fire.send Fire Service. \\n [2] how do i stop a wild fire?.''')\n",
    "    response =input('please enter the number corresponding to your choice:')\n",
    "    if response =='1':\n",
    "        print('The fire Service has been dispatched to your location')\n",
    "    if response =='2':\n",
    "        print('use water,if it doesn,t work call us')\n",
    "    "
   ]
  },
  {
   "cell_type": "code",
   "execution_count": 55,
   "metadata": {},
   "outputs": [],
   "source": [
    "def crime():\n",
    "    print('''welcome to the crime unit,how may we be of service? \\n [1]i wish to report a crime. \\n [2]i need a police dispatch to my location''')\n",
    "    response =input ('please enter the number corresponding to your choice:')\n",
    "    if response == '1':\n",
    "        crime_report()\n",
    "    if response == '2':\n",
    "        need_police()\n",
    "    else:\n",
    "      print('''Sorry, we didn't understand your selection.''')"
   ]
  },
  {
   "cell_type": "code",
   "execution_count": 56,
   "metadata": {},
   "outputs": [],
   "source": [
    "def crime_report():\n",
    "    response=input ('please state the crime you wish to report and location:')\n",
    "    print('your report has been noted,neccessary action will be carried out with immediate effect')\n"
   ]
  },
  {
   "cell_type": "code",
   "execution_count": 57,
   "metadata": {},
   "outputs": [],
   "source": [
    "def need_police():\n",
    "    print ('A unit of our finest officers are enroute your location right now')\n"
   ]
  },
  {
   "cell_type": "code",
   "execution_count": null,
   "metadata": {},
   "outputs": [],
   "source": []
  },
  {
   "cell_type": "code",
   "execution_count": 58,
   "metadata": {},
   "outputs": [],
   "source": [
    "def emmergency_services_bot_pidgin():\n",
    "    print('''How far! \\n Welcome to the emergency services desk. \\n wetin be your emergency?\n",
    "     \\n [1] Health\n",
    "     \\n [2] Fire\n",
    "     \\n [3] Crime''')\n",
    "    response  = input('abeg put the number where be your choice:')\n",
    "    if response == '1':\n",
    "        health_pidgin()\n",
    "    elif response == '2':\n",
    "        fire_pidgin()\n",
    "    elif response == '3':\n",
    "        crime_pidgin()\n",
    "    else:\n",
    "        print('''no vex, i no understand wetin you choose.''')"
   ]
  },
  {
   "cell_type": "code",
   "execution_count": 59,
   "metadata": {},
   "outputs": [],
   "source": [
    "def health_pidgin():\n",
    "    print('''na we  dey in charge of emergency, wetin we go do for you?\" \\n [1] abeg send Ambulance . \\n [2] I want get info about Drugs. \\n [3] I wan yarn with Doctor.''')\n",
    "    response  = input('abeg make your choice:')\n",
    "    if response == '1':\n",
    "      ambulance_pidgin()\n",
    "    elif response == '2':\n",
    "      information_pidgin()\n",
    "    elif response == '3':\n",
    "      doctor_pidgin()\n",
    "    else:\n",
    "      print('''no vex, i no understand wetin you choose.''')\n",
    "      health()"
   ]
  },
  {
   "cell_type": "code",
   "execution_count": 60,
   "metadata": {},
   "outputs": [],
   "source": [
    "def information_pidgin():\n",
    "    print('''as e be now,we no get any info about Drugs ,calm down small make we connect you to doctor.''')"
   ]
  },
  {
   "cell_type": "code",
   "execution_count": 61,
   "metadata": {},
   "outputs": [],
   "source": [
    "def ambulance_pidgin():\n",
    "     print('''We don send ambulance come your side sharply\".''')"
   ]
  },
  {
   "cell_type": "code",
   "execution_count": 62,
   "metadata": {},
   "outputs": [],
   "source": [
    "def doctor_pidgin():\n",
    "     print('''Which kind of Doctor do you need? \\n [1] doctor where na oga for everything.  \\n [2] doctor where na oga for one thing. \\n[3] Native Doctor''')\n",
    "     response  = input('abeg make your choice:')\n",
    "     if response == '1':\n",
    "      print('just chill small make we connect you to doctor where sabi everything. you go wait for like 2  to 5 minutes. thank you jare for your patience.')\n",
    "     if response == '2':\n",
    "      print('just chill small make we connect you to doctor where na oga for one thing . you go wait for like 2 to 5 minutes. thank you jare for your patience.')\n",
    "     if response == '3':\n",
    "      print('we no get native Doctor oo,we no dey do that one here')\n",
    "        "
   ]
  },
  {
   "cell_type": "code",
   "execution_count": 63,
   "metadata": {},
   "outputs": [],
   "source": [
    "def fire_pidgin():\n",
    "    print(''' wetin we go do for you? \\n [1] My house/office/shop dey burn.abeg send Fire people. \\n [2] how i fit take stop fire where dey burn anyhow?.''')\n",
    "    response =input('abeg make your choice:')\n",
    "    if response =='1':\n",
    "        print(' fire people dey road to your side now')\n",
    "    if response =='2':\n",
    "        print('use water,if e no work abeg call us')\n",
    "    "
   ]
  },
  {
   "cell_type": "code",
   "execution_count": 64,
   "metadata": {},
   "outputs": [],
   "source": [
    "def crime_pidgin():\n",
    "    print('''welcome to the crime unit,how may we be of service? \\n [1]i want report crime. \\n [2]i need a police for my area''')\n",
    "    response =input ('abeg make your choice:')\n",
    "    if response == '1':\n",
    "        crime_report_pidgin()\n",
    "    if response == '2':\n",
    "        need_police_pidgin()\n",
    "    else:\n",
    "      print('''Sorry, i no understand wetin you choose.''')"
   ]
  },
  {
   "cell_type": "code",
   "execution_count": 65,
   "metadata": {},
   "outputs": [],
   "source": [
    "def crime_report_pidgin():\n",
    "    response=input ('abeg write the crime you want report and your area:')\n",
    "    print('your report is noted ,we go take action sharply')"
   ]
  },
  {
   "cell_type": "code",
   "execution_count": 66,
   "metadata": {},
   "outputs": [],
   "source": [
    "def need_police_pidgin():\n",
    "    print ('Police dey road to your area now')"
   ]
  },
  {
   "cell_type": "code",
   "execution_count": 67,
   "metadata": {},
   "outputs": [],
   "source": [
    "def emmergency_services_bot():\n",
    "    print('''Choose language.\n",
    "    \\n [1] English\n",
    "    \\n [2] Pidgin''')\n",
    "    response =  input('Please enter the number corresponding to your choice:')\n",
    "    if response == '1':\n",
    "         emmergency_services_bot_english()\n",
    "    elif response == '2':\n",
    "        emmergency_services_bot_pidgin()\n",
    "    else:\n",
    "        print('''Sorry, we didn't understand your selection.''')\n",
    "        emmergency_services_bot()\n",
    "    "
   ]
  },
  {
   "cell_type": "code",
   "execution_count": 68,
   "metadata": {},
   "outputs": [
    {
     "name": "stdout",
     "output_type": "stream",
     "text": [
      "Choose language.\n",
      "    \n",
      " [1] English\n",
      "    \n",
      " [2] Pidgin\n",
      "Please enter the number corresponding to your choice:1\n",
      "Hello! \n",
      " Welcome to the emergency services desk. \n",
      " what is your emergency?\n",
      "     \n",
      " [1] Health\n",
      "     \n",
      " [2] Fire\n",
      "     \n",
      " [3] Crime\n",
      "Please enter the number corresponding to your choice:3\n",
      "welcome to the crime unit,how may we be of service? \n",
      " [1]i wish to report a crime. \n",
      " [2]i need a police dispatch to my location\n",
      "please enter the number corresponding to your choice:1\n",
      "please state the crime you wish to report and location:2\n",
      "your report has been noted,neccessary action will be carried out with immediate effect\n",
      "Sorry, we didn't understand your selection.\n"
     ]
    }
   ],
   "source": [
    "emmergency_services_bot()"
   ]
  }
 ],
 "metadata": {
  "kernelspec": {
   "display_name": "Python 3",
   "language": "python",
   "name": "python3"
  },
  "language_info": {
   "codemirror_mode": {
    "name": "ipython",
    "version": 3
   },
   "file_extension": ".py",
   "mimetype": "text/x-python",
   "name": "python",
   "nbconvert_exporter": "python",
   "pygments_lexer": "ipython3",
   "version": "3.8.5"
  }
 },
 "nbformat": 4,
 "nbformat_minor": 4
}
